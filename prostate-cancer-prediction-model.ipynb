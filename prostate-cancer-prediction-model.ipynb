{
 "cells": [
  {
   "cell_type": "code",
   "execution_count": 1,
   "id": "f849e000",
   "metadata": {
    "_cell_guid": "b1076dfc-b9ad-4769-8c92-a6c4dae69d19",
    "_uuid": "8f2839f25d086af736a60e9eeb907d3b93b6e0e5",
    "execution": {
     "iopub.execute_input": "2021-10-18T08:49:27.576823Z",
     "iopub.status.busy": "2021-10-18T08:49:27.567067Z",
     "iopub.status.idle": "2021-10-18T08:49:27.594165Z",
     "shell.execute_reply": "2021-10-18T08:49:27.593203Z",
     "shell.execute_reply.started": "2021-10-18T08:14:46.781327Z"
    },
    "papermill": {
     "duration": 0.053026,
     "end_time": "2021-10-18T08:49:27.594393",
     "exception": false,
     "start_time": "2021-10-18T08:49:27.541367",
     "status": "completed"
    },
    "tags": []
   },
   "outputs": [
    {
     "name": "stdout",
     "output_type": "stream",
     "text": [
      "/kaggle/input/prostate-cancer/Prostate_Cancer.csv\n"
     ]
    }
   ],
   "source": [
    "# This Python 3 environment comes with many helpful analytics libraries installed\n",
    "# It is defined by the kaggle/python Docker image: https://github.com/kaggle/docker-python\n",
    "# For example, here's several helpful packages to load\n",
    "\n",
    "import numpy as np # linear algebra\n",
    "import pandas as pd # data processing, CSV file I/O (e.g. pd.read_csv)\n",
    "\n",
    "# Input data files are available in the read-only \"../input/\" directory\n",
    "# For example, running this (by clicking run or pressing Shift+Enter) will list all files under the input directory\n",
    "\n",
    "import os\n",
    "for dirname, _, filenames in os.walk('/kaggle/input'):\n",
    "    for filename in filenames:\n",
    "        print(os.path.join(dirname, filename))\n",
    "\n",
    "# You can write up to 20GB to the current directory (/kaggle/working/) that gets preserved as output when you create a version using \"Save & Run All\" \n",
    "# You can also write temporary files to /kaggle/temp/, but they won't be saved outside of the current session"
   ]
  },
  {
   "cell_type": "code",
   "execution_count": 2,
   "id": "43de30cc",
   "metadata": {
    "execution": {
     "iopub.execute_input": "2021-10-18T08:49:27.642114Z",
     "iopub.status.busy": "2021-10-18T08:49:27.641449Z",
     "iopub.status.idle": "2021-10-18T08:49:28.499074Z",
     "shell.execute_reply": "2021-10-18T08:49:28.498171Z",
     "shell.execute_reply.started": "2021-10-18T08:14:46.825662Z"
    },
    "papermill": {
     "duration": 0.882495,
     "end_time": "2021-10-18T08:49:28.499288",
     "exception": false,
     "start_time": "2021-10-18T08:49:27.616793",
     "status": "completed"
    },
    "tags": []
   },
   "outputs": [],
   "source": [
    "import pandas as pd\n",
    "from matplotlib import pyplot as plt\n",
    "import seaborn as sns"
   ]
  },
  {
   "cell_type": "markdown",
   "id": "d56b452b",
   "metadata": {
    "papermill": {
     "duration": 0.02105,
     "end_time": "2021-10-18T08:49:28.550865",
     "exception": false,
     "start_time": "2021-10-18T08:49:28.529815",
     "status": "completed"
    },
    "tags": []
   },
   "source": [
    "# **Objective: generate models for predicting prostate cancer based on indicators**"
   ]
  },
  {
   "cell_type": "markdown",
   "id": "0818a3e6",
   "metadata": {
    "papermill": {
     "duration": 0.019824,
     "end_time": "2021-10-18T08:49:28.590925",
     "exception": false,
     "start_time": "2021-10-18T08:49:28.571101",
     "status": "completed"
    },
    "tags": []
   },
   "source": [
    "## 1. Import and check the Dataset"
   ]
  },
  {
   "cell_type": "code",
   "execution_count": 3,
   "id": "a47315a2",
   "metadata": {
    "execution": {
     "iopub.execute_input": "2021-10-18T08:49:28.635911Z",
     "iopub.status.busy": "2021-10-18T08:49:28.635159Z",
     "iopub.status.idle": "2021-10-18T08:49:28.653192Z",
     "shell.execute_reply": "2021-10-18T08:49:28.652557Z",
     "shell.execute_reply.started": "2021-10-18T08:14:47.697561Z"
    },
    "papermill": {
     "duration": 0.042474,
     "end_time": "2021-10-18T08:49:28.653339",
     "exception": false,
     "start_time": "2021-10-18T08:49:28.610865",
     "status": "completed"
    },
    "tags": []
   },
   "outputs": [],
   "source": [
    "# Read data\n",
    "\n",
    "data = pd.read_csv('../input/prostate-cancer/Prostate_Cancer.csv')"
   ]
  },
  {
   "cell_type": "code",
   "execution_count": 4,
   "id": "4eeb54af",
   "metadata": {
    "execution": {
     "iopub.execute_input": "2021-10-18T08:49:28.701654Z",
     "iopub.status.busy": "2021-10-18T08:49:28.696248Z",
     "iopub.status.idle": "2021-10-18T08:49:28.717632Z",
     "shell.execute_reply": "2021-10-18T08:49:28.718159Z",
     "shell.execute_reply.started": "2021-10-18T08:14:47.717299Z"
    },
    "papermill": {
     "duration": 0.044778,
     "end_time": "2021-10-18T08:49:28.718336",
     "exception": false,
     "start_time": "2021-10-18T08:49:28.673558",
     "status": "completed"
    },
    "tags": []
   },
   "outputs": [
    {
     "data": {
      "text/html": [
       "<div>\n",
       "<style scoped>\n",
       "    .dataframe tbody tr th:only-of-type {\n",
       "        vertical-align: middle;\n",
       "    }\n",
       "\n",
       "    .dataframe tbody tr th {\n",
       "        vertical-align: top;\n",
       "    }\n",
       "\n",
       "    .dataframe thead th {\n",
       "        text-align: right;\n",
       "    }\n",
       "</style>\n",
       "<table border=\"1\" class=\"dataframe\">\n",
       "  <thead>\n",
       "    <tr style=\"text-align: right;\">\n",
       "      <th></th>\n",
       "      <th>id</th>\n",
       "      <th>diagnosis_result</th>\n",
       "      <th>radius</th>\n",
       "      <th>texture</th>\n",
       "      <th>perimeter</th>\n",
       "      <th>area</th>\n",
       "      <th>smoothness</th>\n",
       "      <th>compactness</th>\n",
       "      <th>symmetry</th>\n",
       "      <th>fractal_dimension</th>\n",
       "    </tr>\n",
       "  </thead>\n",
       "  <tbody>\n",
       "    <tr>\n",
       "      <th>0</th>\n",
       "      <td>1</td>\n",
       "      <td>M</td>\n",
       "      <td>23</td>\n",
       "      <td>12</td>\n",
       "      <td>151</td>\n",
       "      <td>954</td>\n",
       "      <td>0.143</td>\n",
       "      <td>0.278</td>\n",
       "      <td>0.242</td>\n",
       "      <td>0.079</td>\n",
       "    </tr>\n",
       "    <tr>\n",
       "      <th>1</th>\n",
       "      <td>2</td>\n",
       "      <td>B</td>\n",
       "      <td>9</td>\n",
       "      <td>13</td>\n",
       "      <td>133</td>\n",
       "      <td>1326</td>\n",
       "      <td>0.143</td>\n",
       "      <td>0.079</td>\n",
       "      <td>0.181</td>\n",
       "      <td>0.057</td>\n",
       "    </tr>\n",
       "    <tr>\n",
       "      <th>2</th>\n",
       "      <td>3</td>\n",
       "      <td>M</td>\n",
       "      <td>21</td>\n",
       "      <td>27</td>\n",
       "      <td>130</td>\n",
       "      <td>1203</td>\n",
       "      <td>0.125</td>\n",
       "      <td>0.160</td>\n",
       "      <td>0.207</td>\n",
       "      <td>0.060</td>\n",
       "    </tr>\n",
       "    <tr>\n",
       "      <th>3</th>\n",
       "      <td>4</td>\n",
       "      <td>M</td>\n",
       "      <td>14</td>\n",
       "      <td>16</td>\n",
       "      <td>78</td>\n",
       "      <td>386</td>\n",
       "      <td>0.070</td>\n",
       "      <td>0.284</td>\n",
       "      <td>0.260</td>\n",
       "      <td>0.097</td>\n",
       "    </tr>\n",
       "    <tr>\n",
       "      <th>4</th>\n",
       "      <td>5</td>\n",
       "      <td>M</td>\n",
       "      <td>9</td>\n",
       "      <td>19</td>\n",
       "      <td>135</td>\n",
       "      <td>1297</td>\n",
       "      <td>0.141</td>\n",
       "      <td>0.133</td>\n",
       "      <td>0.181</td>\n",
       "      <td>0.059</td>\n",
       "    </tr>\n",
       "  </tbody>\n",
       "</table>\n",
       "</div>"
      ],
      "text/plain": [
       "   id diagnosis_result  radius  texture  perimeter  area  smoothness  \\\n",
       "0   1                M      23       12        151   954       0.143   \n",
       "1   2                B       9       13        133  1326       0.143   \n",
       "2   3                M      21       27        130  1203       0.125   \n",
       "3   4                M      14       16         78   386       0.070   \n",
       "4   5                M       9       19        135  1297       0.141   \n",
       "\n",
       "   compactness  symmetry  fractal_dimension  \n",
       "0        0.278     0.242              0.079  \n",
       "1        0.079     0.181              0.057  \n",
       "2        0.160     0.207              0.060  \n",
       "3        0.284     0.260              0.097  \n",
       "4        0.133     0.181              0.059  "
      ]
     },
     "execution_count": 4,
     "metadata": {},
     "output_type": "execute_result"
    }
   ],
   "source": [
    "data.head()"
   ]
  },
  {
   "cell_type": "code",
   "execution_count": 5,
   "id": "55409f25",
   "metadata": {
    "execution": {
     "iopub.execute_input": "2021-10-18T08:49:28.764999Z",
     "iopub.status.busy": "2021-10-18T08:49:28.764351Z",
     "iopub.status.idle": "2021-10-18T08:49:28.785394Z",
     "shell.execute_reply": "2021-10-18T08:49:28.786076Z",
     "shell.execute_reply.started": "2021-10-18T08:14:47.743923Z"
    },
    "papermill": {
     "duration": 0.045951,
     "end_time": "2021-10-18T08:49:28.786299",
     "exception": false,
     "start_time": "2021-10-18T08:49:28.740348",
     "status": "completed"
    },
    "tags": []
   },
   "outputs": [
    {
     "name": "stdout",
     "output_type": "stream",
     "text": [
      "<class 'pandas.core.frame.DataFrame'>\n",
      "RangeIndex: 100 entries, 0 to 99\n",
      "Data columns (total 10 columns):\n",
      " #   Column             Non-Null Count  Dtype  \n",
      "---  ------             --------------  -----  \n",
      " 0   id                 100 non-null    int64  \n",
      " 1   diagnosis_result   100 non-null    object \n",
      " 2   radius             100 non-null    int64  \n",
      " 3   texture            100 non-null    int64  \n",
      " 4   perimeter          100 non-null    int64  \n",
      " 5   area               100 non-null    int64  \n",
      " 6   smoothness         100 non-null    float64\n",
      " 7   compactness        100 non-null    float64\n",
      " 8   symmetry           100 non-null    float64\n",
      " 9   fractal_dimension  100 non-null    float64\n",
      "dtypes: float64(4), int64(5), object(1)\n",
      "memory usage: 7.9+ KB\n"
     ]
    }
   ],
   "source": [
    "data.info()"
   ]
  },
  {
   "cell_type": "markdown",
   "id": "7976d533",
   "metadata": {
    "papermill": {
     "duration": 0.020648,
     "end_time": "2021-10-18T08:49:28.828989",
     "exception": false,
     "start_time": "2021-10-18T08:49:28.808341",
     "status": "completed"
    },
    "tags": []
   },
   "source": [
    "There is no missing data."
   ]
  },
  {
   "cell_type": "code",
   "execution_count": 6,
   "id": "740b5fd2",
   "metadata": {
    "execution": {
     "iopub.execute_input": "2021-10-18T08:49:28.879560Z",
     "iopub.status.busy": "2021-10-18T08:49:28.878935Z",
     "iopub.status.idle": "2021-10-18T08:49:28.921425Z",
     "shell.execute_reply": "2021-10-18T08:49:28.920832Z",
     "shell.execute_reply.started": "2021-10-18T08:14:47.772229Z"
    },
    "papermill": {
     "duration": 0.071683,
     "end_time": "2021-10-18T08:49:28.921567",
     "exception": false,
     "start_time": "2021-10-18T08:49:28.849884",
     "status": "completed"
    },
    "tags": []
   },
   "outputs": [
    {
     "data": {
      "text/html": [
       "<div>\n",
       "<style scoped>\n",
       "    .dataframe tbody tr th:only-of-type {\n",
       "        vertical-align: middle;\n",
       "    }\n",
       "\n",
       "    .dataframe tbody tr th {\n",
       "        vertical-align: top;\n",
       "    }\n",
       "\n",
       "    .dataframe thead th {\n",
       "        text-align: right;\n",
       "    }\n",
       "</style>\n",
       "<table border=\"1\" class=\"dataframe\">\n",
       "  <thead>\n",
       "    <tr style=\"text-align: right;\">\n",
       "      <th></th>\n",
       "      <th>id</th>\n",
       "      <th>radius</th>\n",
       "      <th>texture</th>\n",
       "      <th>perimeter</th>\n",
       "      <th>area</th>\n",
       "      <th>smoothness</th>\n",
       "      <th>compactness</th>\n",
       "      <th>symmetry</th>\n",
       "      <th>fractal_dimension</th>\n",
       "    </tr>\n",
       "  </thead>\n",
       "  <tbody>\n",
       "    <tr>\n",
       "      <th>count</th>\n",
       "      <td>100.000000</td>\n",
       "      <td>100.000000</td>\n",
       "      <td>100.000000</td>\n",
       "      <td>100.000000</td>\n",
       "      <td>100.000000</td>\n",
       "      <td>100.000000</td>\n",
       "      <td>100.000000</td>\n",
       "      <td>100.000000</td>\n",
       "      <td>100.000000</td>\n",
       "    </tr>\n",
       "    <tr>\n",
       "      <th>mean</th>\n",
       "      <td>50.500000</td>\n",
       "      <td>16.850000</td>\n",
       "      <td>18.230000</td>\n",
       "      <td>96.780000</td>\n",
       "      <td>702.880000</td>\n",
       "      <td>0.102730</td>\n",
       "      <td>0.126700</td>\n",
       "      <td>0.193170</td>\n",
       "      <td>0.064690</td>\n",
       "    </tr>\n",
       "    <tr>\n",
       "      <th>std</th>\n",
       "      <td>29.011492</td>\n",
       "      <td>4.879094</td>\n",
       "      <td>5.192954</td>\n",
       "      <td>23.676089</td>\n",
       "      <td>319.710895</td>\n",
       "      <td>0.014642</td>\n",
       "      <td>0.061144</td>\n",
       "      <td>0.030785</td>\n",
       "      <td>0.008151</td>\n",
       "    </tr>\n",
       "    <tr>\n",
       "      <th>min</th>\n",
       "      <td>1.000000</td>\n",
       "      <td>9.000000</td>\n",
       "      <td>11.000000</td>\n",
       "      <td>52.000000</td>\n",
       "      <td>202.000000</td>\n",
       "      <td>0.070000</td>\n",
       "      <td>0.038000</td>\n",
       "      <td>0.135000</td>\n",
       "      <td>0.053000</td>\n",
       "    </tr>\n",
       "    <tr>\n",
       "      <th>25%</th>\n",
       "      <td>25.750000</td>\n",
       "      <td>12.000000</td>\n",
       "      <td>14.000000</td>\n",
       "      <td>82.500000</td>\n",
       "      <td>476.750000</td>\n",
       "      <td>0.093500</td>\n",
       "      <td>0.080500</td>\n",
       "      <td>0.172000</td>\n",
       "      <td>0.059000</td>\n",
       "    </tr>\n",
       "    <tr>\n",
       "      <th>50%</th>\n",
       "      <td>50.500000</td>\n",
       "      <td>17.000000</td>\n",
       "      <td>17.500000</td>\n",
       "      <td>94.000000</td>\n",
       "      <td>644.000000</td>\n",
       "      <td>0.102000</td>\n",
       "      <td>0.118500</td>\n",
       "      <td>0.190000</td>\n",
       "      <td>0.063000</td>\n",
       "    </tr>\n",
       "    <tr>\n",
       "      <th>75%</th>\n",
       "      <td>75.250000</td>\n",
       "      <td>21.000000</td>\n",
       "      <td>22.250000</td>\n",
       "      <td>114.250000</td>\n",
       "      <td>917.000000</td>\n",
       "      <td>0.112000</td>\n",
       "      <td>0.157000</td>\n",
       "      <td>0.209000</td>\n",
       "      <td>0.069000</td>\n",
       "    </tr>\n",
       "    <tr>\n",
       "      <th>max</th>\n",
       "      <td>100.000000</td>\n",
       "      <td>25.000000</td>\n",
       "      <td>27.000000</td>\n",
       "      <td>172.000000</td>\n",
       "      <td>1878.000000</td>\n",
       "      <td>0.143000</td>\n",
       "      <td>0.345000</td>\n",
       "      <td>0.304000</td>\n",
       "      <td>0.097000</td>\n",
       "    </tr>\n",
       "  </tbody>\n",
       "</table>\n",
       "</div>"
      ],
      "text/plain": [
       "               id      radius     texture   perimeter         area  \\\n",
       "count  100.000000  100.000000  100.000000  100.000000   100.000000   \n",
       "mean    50.500000   16.850000   18.230000   96.780000   702.880000   \n",
       "std     29.011492    4.879094    5.192954   23.676089   319.710895   \n",
       "min      1.000000    9.000000   11.000000   52.000000   202.000000   \n",
       "25%     25.750000   12.000000   14.000000   82.500000   476.750000   \n",
       "50%     50.500000   17.000000   17.500000   94.000000   644.000000   \n",
       "75%     75.250000   21.000000   22.250000  114.250000   917.000000   \n",
       "max    100.000000   25.000000   27.000000  172.000000  1878.000000   \n",
       "\n",
       "       smoothness  compactness    symmetry  fractal_dimension  \n",
       "count  100.000000   100.000000  100.000000         100.000000  \n",
       "mean     0.102730     0.126700    0.193170           0.064690  \n",
       "std      0.014642     0.061144    0.030785           0.008151  \n",
       "min      0.070000     0.038000    0.135000           0.053000  \n",
       "25%      0.093500     0.080500    0.172000           0.059000  \n",
       "50%      0.102000     0.118500    0.190000           0.063000  \n",
       "75%      0.112000     0.157000    0.209000           0.069000  \n",
       "max      0.143000     0.345000    0.304000           0.097000  "
      ]
     },
     "execution_count": 6,
     "metadata": {},
     "output_type": "execute_result"
    }
   ],
   "source": [
    "data.describe()"
   ]
  },
  {
   "cell_type": "markdown",
   "id": "9d76c986",
   "metadata": {
    "papermill": {
     "duration": 0.021465,
     "end_time": "2021-10-18T08:49:28.968525",
     "exception": false,
     "start_time": "2021-10-18T08:49:28.947060",
     "status": "completed"
    },
    "tags": []
   },
   "source": [
    "The id column can be eliminated. This column adds no value to the data."
   ]
  },
  {
   "cell_type": "code",
   "execution_count": 7,
   "id": "d6a77597",
   "metadata": {
    "execution": {
     "iopub.execute_input": "2021-10-18T08:49:29.021039Z",
     "iopub.status.busy": "2021-10-18T08:49:29.020378Z",
     "iopub.status.idle": "2021-10-18T08:49:29.022852Z",
     "shell.execute_reply": "2021-10-18T08:49:29.023329Z",
     "shell.execute_reply.started": "2021-10-18T08:14:47.814426Z"
    },
    "papermill": {
     "duration": 0.033167,
     "end_time": "2021-10-18T08:49:29.023500",
     "exception": false,
     "start_time": "2021-10-18T08:49:28.990333",
     "status": "completed"
    },
    "tags": []
   },
   "outputs": [],
   "source": [
    "data = data.drop(['id'], axis=1)"
   ]
  },
  {
   "cell_type": "code",
   "execution_count": 8,
   "id": "8d9dea87",
   "metadata": {
    "execution": {
     "iopub.execute_input": "2021-10-18T08:49:29.071705Z",
     "iopub.status.busy": "2021-10-18T08:49:29.071075Z",
     "iopub.status.idle": "2021-10-18T08:49:29.214474Z",
     "shell.execute_reply": "2021-10-18T08:49:29.213864Z",
     "shell.execute_reply.started": "2021-10-18T08:14:47.822859Z"
    },
    "papermill": {
     "duration": 0.16867,
     "end_time": "2021-10-18T08:49:29.214607",
     "exception": false,
     "start_time": "2021-10-18T08:49:29.045937",
     "status": "completed"
    },
    "tags": []
   },
   "outputs": [
    {
     "data": {
      "image/png": "[encoded data removed]",
      "text/plain": [
       "<Figure size 864x432 with 1 Axes>"
      ]
     },
     "metadata": {},
     "output_type": "display_data"
    }
   ],
   "source": [
    "data_dr = data['diagnosis_result'].value_counts()\n",
    "\n",
    "label = [data_dr.index.tolist()]\n",
    "plt.pie(data_dr, labels=label[0], shadow=True, explode=(0.0, 0.2), autopct='%1.1f%%', startangle=90)\n",
    "plt.gcf().set_size_inches(12,6)\n",
    "plt.show()"
   ]
  },
  {
   "cell_type": "markdown",
   "id": "a3509c26",
   "metadata": {
    "papermill": {
     "duration": 0.022348,
     "end_time": "2021-10-18T08:49:29.259607",
     "exception": false,
     "start_time": "2021-10-18T08:49:29.237259",
     "status": "completed"
    },
    "tags": []
   },
   "source": [
    "The majority number of cases is found to be maligne. \n",
    "This variable can be set to 0 for maligne and 1 for benigne."
   ]
  },
  {
   "cell_type": "code",
   "execution_count": 9,
   "id": "a66f194b",
   "metadata": {
    "execution": {
     "iopub.execute_input": "2021-10-18T08:49:29.312498Z",
     "iopub.status.busy": "2021-10-18T08:49:29.311491Z",
     "iopub.status.idle": "2021-10-18T08:49:29.313783Z",
     "shell.execute_reply": "2021-10-18T08:49:29.314226Z",
     "shell.execute_reply.started": "2021-10-18T08:14:47.977421Z"
    },
    "papermill": {
     "duration": 0.031745,
     "end_time": "2021-10-18T08:49:29.314404",
     "exception": false,
     "start_time": "2021-10-18T08:49:29.282659",
     "status": "completed"
    },
    "tags": []
   },
   "outputs": [],
   "source": [
    "data['diagnosis_result'].replace({'M':0,'B':1},inplace=True)"
   ]
  },
  {
   "cell_type": "code",
   "execution_count": 10,
   "id": "66850f69",
   "metadata": {
    "execution": {
     "iopub.execute_input": "2021-10-18T08:49:29.370210Z",
     "iopub.status.busy": "2021-10-18T08:49:29.369299Z",
     "iopub.status.idle": "2021-10-18T08:49:29.466754Z",
     "shell.execute_reply": "2021-10-18T08:49:29.466178Z",
     "shell.execute_reply.started": "2021-10-18T08:14:47.986801Z"
    },
    "papermill": {
     "duration": 0.128499,
     "end_time": "2021-10-18T08:49:29.466903",
     "exception": false,
     "start_time": "2021-10-18T08:49:29.338404",
     "status": "completed"
    },
    "tags": []
   },
   "outputs": [
    {
     "data": {
      "text/html": [
       "<style type=\"text/css\">\n",
       "#T_77f60_row0_col0, #T_77f60_row1_col1, #T_77f60_row2_col2, #T_77f60_row3_col3, #T_77f60_row4_col4, #T_77f60_row5_col5, #T_77f60_row6_col6, #T_77f60_row7_col7, #T_77f60_row8_col8 {\n",
       "  background-color: #023858;\n",
       "  color: #f1f1f1;\n",
       "}\n",
       "#T_77f60_row0_col1 {\n",
       "  background-color: #b1c2de;\n",
       "  color: #000000;\n",
       "}\n",
       "#T_77f60_row0_col2 {\n",
       "  background-color: #faf2f8;\n",
       "  color: #000000;\n",
       "}\n",
       "#T_77f60_row0_col3, #T_77f60_row0_col4, #T_77f60_row0_col5, #T_77f60_row0_col6, #T_77f60_row0_col7, #T_77f60_row3_col0, #T_77f60_row3_col2, #T_77f60_row4_col1, #T_77f60_row4_col2, #T_77f60_row4_col8 {\n",
       "  background-color: #fff7fb;\n",
       "  color: #000000;\n",
       "}\n",
       "#T_77f60_row0_col8, #T_77f60_row1_col6 {\n",
       "  background-color: #d9d8ea;\n",
       "  color: #000000;\n",
       "}\n",
       "#T_77f60_row1_col0 {\n",
       "  background-color: #79abd0;\n",
       "  color: #f1f1f1;\n",
       "}\n",
       "#T_77f60_row1_col2, #T_77f60_row1_col8, #T_77f60_row5_col2 {\n",
       "  background-color: #dddbec;\n",
       "  color: #000000;\n",
       "}\n",
       "#T_77f60_row1_col3, #T_77f60_row8_col2 {\n",
       "  background-color: #d5d5e8;\n",
       "  color: #000000;\n",
       "}\n",
       "#T_77f60_row1_col4 {\n",
       "  background-color: #dbdaeb;\n",
       "  color: #000000;\n",
       "}\n",
       "#T_77f60_row1_col5, #T_77f60_row3_col8, #T_77f60_row6_col0 {\n",
       "  background-color: #f6eff7;\n",
       "  color: #000000;\n",
       "}\n",
       "#T_77f60_row1_col7 {\n",
       "  background-color: #e5e1ef;\n",
       "  color: #000000;\n",
       "}\n",
       "#T_77f60_row2_col0 {\n",
       "  background-color: #b4c4df;\n",
       "  color: #000000;\n",
       "}\n",
       "#T_77f60_row2_col1, #T_77f60_row4_col7 {\n",
       "  background-color: #c6cce3;\n",
       "  color: #000000;\n",
       "}\n",
       "#T_77f60_row2_col3 {\n",
       "  background-color: #bdc8e1;\n",
       "  color: #000000;\n",
       "}\n",
       "#T_77f60_row2_col4 {\n",
       "  background-color: #c4cbe3;\n",
       "  color: #000000;\n",
       "}\n",
       "#T_77f60_row2_col5, #T_77f60_row2_col7 {\n",
       "  background-color: #d0d1e6;\n",
       "  color: #000000;\n",
       "}\n",
       "#T_77f60_row2_col6 {\n",
       "  background-color: #abbfdc;\n",
       "  color: #000000;\n",
       "}\n",
       "#T_77f60_row2_col8 {\n",
       "  background-color: #b7c5df;\n",
       "  color: #000000;\n",
       "}\n",
       "#T_77f60_row3_col1 {\n",
       "  background-color: #fef6fa;\n",
       "  color: #000000;\n",
       "}\n",
       "#T_77f60_row3_col4, #T_77f60_row4_col3 {\n",
       "  background-color: #023b5d;\n",
       "  color: #f1f1f1;\n",
       "}\n",
       "#T_77f60_row3_col5 {\n",
       "  background-color: #a1bbda;\n",
       "  color: #000000;\n",
       "}\n",
       "#T_77f60_row3_col6 {\n",
       "  background-color: #1c7fb8;\n",
       "  color: #f1f1f1;\n",
       "}\n",
       "#T_77f60_row3_col7 {\n",
       "  background-color: #b0c2de;\n",
       "  color: #000000;\n",
       "}\n",
       "#T_77f60_row4_col0 {\n",
       "  background-color: #fbf3f9;\n",
       "  color: #000000;\n",
       "}\n",
       "#T_77f60_row4_col5 {\n",
       "  background-color: #b3c3de;\n",
       "  color: #000000;\n",
       "}\n",
       "#T_77f60_row4_col6 {\n",
       "  background-color: #3991c1;\n",
       "  color: #f1f1f1;\n",
       "}\n",
       "#T_77f60_row5_col0, #T_77f60_row8_col3 {\n",
       "  background-color: #ced0e6;\n",
       "  color: #000000;\n",
       "}\n",
       "#T_77f60_row5_col1 {\n",
       "  background-color: #f0eaf4;\n",
       "  color: #000000;\n",
       "}\n",
       "#T_77f60_row5_col3 {\n",
       "  background-color: #5ea0ca;\n",
       "  color: #f1f1f1;\n",
       "}\n",
       "#T_77f60_row5_col4 {\n",
       "  background-color: #76aad0;\n",
       "  color: #f1f1f1;\n",
       "}\n",
       "#T_77f60_row5_col6 {\n",
       "  background-color: #2d8abd;\n",
       "  color: #f1f1f1;\n",
       "}\n",
       "#T_77f60_row5_col7 {\n",
       "  background-color: #63a2cb;\n",
       "  color: #f1f1f1;\n",
       "}\n",
       "#T_77f60_row5_col8 {\n",
       "  background-color: #71a8ce;\n",
       "  color: #f1f1f1;\n",
       "}\n",
       "#T_77f60_row6_col1 {\n",
       "  background-color: #f8f1f8;\n",
       "  color: #000000;\n",
       "}\n",
       "#T_77f60_row6_col2 {\n",
       "  background-color: #ebe6f2;\n",
       "  color: #000000;\n",
       "}\n",
       "#T_77f60_row6_col3 {\n",
       "  background-color: #167bb6;\n",
       "  color: #f1f1f1;\n",
       "}\n",
       "#T_77f60_row6_col4 {\n",
       "  background-color: #348ebf;\n",
       "  color: #f1f1f1;\n",
       "}\n",
       "#T_77f60_row6_col5 {\n",
       "  background-color: #5a9ec9;\n",
       "  color: #f1f1f1;\n",
       "}\n",
       "#T_77f60_row6_col7 {\n",
       "  background-color: #0872b1;\n",
       "  color: #f1f1f1;\n",
       "}\n",
       "#T_77f60_row6_col8 {\n",
       "  background-color: #0f76b3;\n",
       "  color: #f1f1f1;\n",
       "}\n",
       "#T_77f60_row7_col0 {\n",
       "  background-color: #d4d4e8;\n",
       "  color: #000000;\n",
       "}\n",
       "#T_77f60_row7_col1 {\n",
       "  background-color: #e2dfee;\n",
       "  color: #000000;\n",
       "}\n",
       "#T_77f60_row7_col2 {\n",
       "  background-color: #e1dfed;\n",
       "  color: #000000;\n",
       "}\n",
       "#T_77f60_row7_col3 {\n",
       "  background-color: #75a9cf;\n",
       "  color: #f1f1f1;\n",
       "}\n",
       "#T_77f60_row7_col4 {\n",
       "  background-color: #8fb4d6;\n",
       "  color: #000000;\n",
       "}\n",
       "#T_77f60_row7_col5 {\n",
       "  background-color: #6ba5cd;\n",
       "  color: #f1f1f1;\n",
       "}\n",
       "#T_77f60_row7_col6 {\n",
       "  background-color: #0569a4;\n",
       "  color: #f1f1f1;\n",
       "}\n",
       "#T_77f60_row7_col8 {\n",
       "  background-color: #2786bb;\n",
       "  color: #f1f1f1;\n",
       "}\n",
       "#T_77f60_row8_col0 {\n",
       "  background-color: #a7bddb;\n",
       "  color: #000000;\n",
       "}\n",
       "#T_77f60_row8_col1 {\n",
       "  background-color: #e0deed;\n",
       "  color: #000000;\n",
       "}\n",
       "#T_77f60_row8_col4 {\n",
       "  background-color: #dfddec;\n",
       "  color: #000000;\n",
       "}\n",
       "#T_77f60_row8_col5 {\n",
       "  background-color: #7eadd1;\n",
       "  color: #f1f1f1;\n",
       "}\n",
       "#T_77f60_row8_col6 {\n",
       "  background-color: #056dab;\n",
       "  color: #f1f1f1;\n",
       "}\n",
       "#T_77f60_row8_col7 {\n",
       "  background-color: #2c89bd;\n",
       "  color: #f1f1f1;\n",
       "}\n",
       "</style>\n",
       "<table id=\"T_77f60_\">\n",
       "  <thead>\n",
       "    <tr>\n",
       "      <th class=\"blank level0\" >&nbsp;</th>\n",
       "      <th class=\"col_heading level0 col0\" >diagnosis_result</th>\n",
       "      <th class=\"col_heading level0 col1\" >radius</th>\n",
       "      <th class=\"col_heading level0 col2\" >texture</th>\n",
       "      <th class=\"col_heading level0 col3\" >perimeter</th>\n",
       "      <th class=\"col_heading level0 col4\" >area</th>\n",
       "      <th class=\"col_heading level0 col5\" >smoothness</th>\n",
       "      <th class=\"col_heading level0 col6\" >compactness</th>\n",
       "      <th class=\"col_heading level0 col7\" >symmetry</th>\n",
       "      <th class=\"col_heading level0 col8\" >fractal_dimension</th>\n",
       "    </tr>\n",
       "  </thead>\n",
       "  <tbody>\n",
       "    <tr>\n",
       "      <th id=\"T_77f60_level0_row0\" class=\"row_heading level0 row0\" >diagnosis_result</th>\n",
       "      <td id=\"T_77f60_row0_col0\" class=\"data row0 col0\" >1.000000</td>\n",
       "      <td id=\"T_77f60_row0_col1\" class=\"data row0 col1\" >0.176967</td>\n",
       "      <td id=\"T_77f60_row0_col2\" class=\"data row0 col2\" >-0.070735</td>\n",
       "      <td id=\"T_77f60_row0_col3\" class=\"data row0 col3\" >-0.607498</td>\n",
       "      <td id=\"T_77f60_row0_col4\" class=\"data row0 col4\" >-0.562444</td>\n",
       "      <td id=\"T_77f60_row0_col5\" class=\"data row0 col5\" >-0.197616</td>\n",
       "      <td id=\"T_77f60_row0_col6\" class=\"data row0 col6\" >-0.512234</td>\n",
       "      <td id=\"T_77f60_row0_col7\" class=\"data row0 col7\" >-0.233028</td>\n",
       "      <td id=\"T_77f60_row0_col8\" class=\"data row0 col8\" >-0.008180</td>\n",
       "    </tr>\n",
       "    <tr>\n",
       "      <th id=\"T_77f60_level0_row1\" class=\"row_heading level0 row1\" >radius</th>\n",
       "      <td id=\"T_77f60_row1_col0\" class=\"data row1 col0\" >0.176967</td>\n",
       "      <td id=\"T_77f60_row1_col1\" class=\"data row1 col1\" >1.000000</td>\n",
       "      <td id=\"T_77f60_row1_col2\" class=\"data row1 col2\" >0.100245</td>\n",
       "      <td id=\"T_77f60_row1_col3\" class=\"data row1 col3\" >-0.238216</td>\n",
       "      <td id=\"T_77f60_row1_col4\" class=\"data row1 col4\" >-0.250934</td>\n",
       "      <td id=\"T_77f60_row1_col5\" class=\"data row1 col5\" >-0.127121</td>\n",
       "      <td id=\"T_77f60_row1_col6\" class=\"data row1 col6\" >-0.191490</td>\n",
       "      <td id=\"T_77f60_row1_col7\" class=\"data row1 col7\" >-0.039707</td>\n",
       "      <td id=\"T_77f60_row1_col8\" class=\"data row1 col8\" >-0.029120</td>\n",
       "    </tr>\n",
       "    <tr>\n",
       "      <th id=\"T_77f60_level0_row2\" class=\"row_heading level0 row2\" >texture</th>\n",
       "      <td id=\"T_77f60_row2_col0\" class=\"data row2 col0\" >-0.070735</td>\n",
       "      <td id=\"T_77f60_row2_col1\" class=\"data row2 col1\" >0.100245</td>\n",
       "      <td id=\"T_77f60_row2_col2\" class=\"data row2 col2\" >1.000000</td>\n",
       "      <td id=\"T_77f60_row2_col3\" class=\"data row2 col3\" >-0.113453</td>\n",
       "      <td id=\"T_77f60_row2_col4\" class=\"data row2 col4\" >-0.113725</td>\n",
       "      <td id=\"T_77f60_row2_col5\" class=\"data row2 col5\" >0.102321</td>\n",
       "      <td id=\"T_77f60_row2_col6\" class=\"data row2 col6\" >0.032446</td>\n",
       "      <td id=\"T_77f60_row2_col7\" class=\"data row2 col7\" >0.077912</td>\n",
       "      <td id=\"T_77f60_row2_col8\" class=\"data row2 col8\" >0.139157</td>\n",
       "    </tr>\n",
       "    <tr>\n",
       "      <th id=\"T_77f60_level0_row3\" class=\"row_heading level0 row3\" >perimeter</th>\n",
       "      <td id=\"T_77f60_row3_col0\" class=\"data row3 col0\" >-0.607498</td>\n",
       "      <td id=\"T_77f60_row3_col1\" class=\"data row3 col1\" >-0.238216</td>\n",
       "      <td id=\"T_77f60_row3_col2\" class=\"data row3 col2\" >-0.113453</td>\n",
       "      <td id=\"T_77f60_row3_col3\" class=\"data row3 col3\" >1.000000</td>\n",
       "      <td id=\"T_77f60_row3_col4\" class=\"data row3 col4\" >0.976648</td>\n",
       "      <td id=\"T_77f60_row3_col5\" class=\"data row3 col5\" >0.269442</td>\n",
       "      <td id=\"T_77f60_row3_col6\" class=\"data row3 col6\" >0.527542</td>\n",
       "      <td id=\"T_77f60_row3_col7\" class=\"data row3 col7\" >0.195539</td>\n",
       "      <td id=\"T_77f60_row3_col8\" class=\"data row3 col8\" >-0.195434</td>\n",
       "    </tr>\n",
       "    <tr>\n",
       "      <th id=\"T_77f60_level0_row4\" class=\"row_heading level0 row4\" >area</th>\n",
       "      <td id=\"T_77f60_row4_col0\" class=\"data row4 col0\" >-0.562444</td>\n",
       "      <td id=\"T_77f60_row4_col1\" class=\"data row4 col1\" >-0.250934</td>\n",
       "      <td id=\"T_77f60_row4_col2\" class=\"data row4 col2\" >-0.113725</td>\n",
       "      <td id=\"T_77f60_row4_col3\" class=\"data row4 col3\" >0.976648</td>\n",
       "      <td id=\"T_77f60_row4_col4\" class=\"data row4 col4\" >1.000000</td>\n",
       "      <td id=\"T_77f60_row4_col5\" class=\"data row4 col5\" >0.208438</td>\n",
       "      <td id=\"T_77f60_row4_col6\" class=\"data row4 col6\" >0.424950</td>\n",
       "      <td id=\"T_77f60_row4_col7\" class=\"data row4 col7\" >0.110435</td>\n",
       "      <td id=\"T_77f60_row4_col8\" class=\"data row4 col8\" >-0.274344</td>\n",
       "    </tr>\n",
       "    <tr>\n",
       "      <th id=\"T_77f60_level0_row5\" class=\"row_heading level0 row5\" >smoothness</th>\n",
       "      <td id=\"T_77f60_row5_col0\" class=\"data row5 col0\" >-0.197616</td>\n",
       "      <td id=\"T_77f60_row5_col1\" class=\"data row5 col1\" >-0.127121</td>\n",
       "      <td id=\"T_77f60_row5_col2\" class=\"data row5 col2\" >0.102321</td>\n",
       "      <td id=\"T_77f60_row5_col3\" class=\"data row5 col3\" >0.269442</td>\n",
       "      <td id=\"T_77f60_row5_col4\" class=\"data row5 col4\" >0.208438</td>\n",
       "      <td id=\"T_77f60_row5_col5\" class=\"data row5 col5\" >1.000000</td>\n",
       "      <td id=\"T_77f60_row5_col6\" class=\"data row5 col6\" >0.465723</td>\n",
       "      <td id=\"T_77f60_row5_col7\" class=\"data row5 col7\" >0.424203</td>\n",
       "      <td id=\"T_77f60_row5_col8\" class=\"data row5 col8\" >0.369580</td>\n",
       "    </tr>\n",
       "    <tr>\n",
       "      <th id=\"T_77f60_level0_row6\" class=\"row_heading level0 row6\" >compactness</th>\n",
       "      <td id=\"T_77f60_row6_col0\" class=\"data row6 col0\" >-0.512234</td>\n",
       "      <td id=\"T_77f60_row6_col1\" class=\"data row6 col1\" >-0.191490</td>\n",
       "      <td id=\"T_77f60_row6_col2\" class=\"data row6 col2\" >0.032446</td>\n",
       "      <td id=\"T_77f60_row6_col3\" class=\"data row6 col3\" >0.527542</td>\n",
       "      <td id=\"T_77f60_row6_col4\" class=\"data row6 col4\" >0.424950</td>\n",
       "      <td id=\"T_77f60_row6_col5\" class=\"data row6 col5\" >0.465723</td>\n",
       "      <td id=\"T_77f60_row6_col6\" class=\"data row6 col6\" >1.000000</td>\n",
       "      <td id=\"T_77f60_row6_col7\" class=\"data row6 col7\" >0.681123</td>\n",
       "      <td id=\"T_77f60_row6_col8\" class=\"data row6 col8\" >0.647953</td>\n",
       "    </tr>\n",
       "    <tr>\n",
       "      <th id=\"T_77f60_level0_row7\" class=\"row_heading level0 row7\" >symmetry</th>\n",
       "      <td id=\"T_77f60_row7_col0\" class=\"data row7 col0\" >-0.233028</td>\n",
       "      <td id=\"T_77f60_row7_col1\" class=\"data row7 col1\" >-0.039707</td>\n",
       "      <td id=\"T_77f60_row7_col2\" class=\"data row7 col2\" >0.077912</td>\n",
       "      <td id=\"T_77f60_row7_col3\" class=\"data row7 col3\" >0.195539</td>\n",
       "      <td id=\"T_77f60_row7_col4\" class=\"data row7 col4\" >0.110435</td>\n",
       "      <td id=\"T_77f60_row7_col5\" class=\"data row7 col5\" >0.424203</td>\n",
       "      <td id=\"T_77f60_row7_col6\" class=\"data row7 col6\" >0.681123</td>\n",
       "      <td id=\"T_77f60_row7_col7\" class=\"data row7 col7\" >1.000000</td>\n",
       "      <td id=\"T_77f60_row7_col8\" class=\"data row7 col8\" >0.568608</td>\n",
       "    </tr>\n",
       "    <tr>\n",
       "      <th id=\"T_77f60_level0_row8\" class=\"row_heading level0 row8\" >fractal_dimension</th>\n",
       "      <td id=\"T_77f60_row8_col0\" class=\"data row8 col0\" >-0.008180</td>\n",
       "      <td id=\"T_77f60_row8_col1\" class=\"data row8 col1\" >-0.029120</td>\n",
       "      <td id=\"T_77f60_row8_col2\" class=\"data row8 col2\" >0.139157</td>\n",
       "      <td id=\"T_77f60_row8_col3\" class=\"data row8 col3\" >-0.195434</td>\n",
       "      <td id=\"T_77f60_row8_col4\" class=\"data row8 col4\" >-0.274344</td>\n",
       "      <td id=\"T_77f60_row8_col5\" class=\"data row8 col5\" >0.369580</td>\n",
       "      <td id=\"T_77f60_row8_col6\" class=\"data row8 col6\" >0.647953</td>\n",
       "      <td id=\"T_77f60_row8_col7\" class=\"data row8 col7\" >0.568608</td>\n",
       "      <td id=\"T_77f60_row8_col8\" class=\"data row8 col8\" >1.000000</td>\n",
       "    </tr>\n",
       "  </tbody>\n",
       "</table>\n"
      ],
      "text/plain": [
       "<pandas.io.formats.style.Styler at 0x7fea24567e10>"
      ]
     },
     "execution_count": 10,
     "metadata": {},
     "output_type": "execute_result"
    }
   ],
   "source": [
    "# Data correlation matrix\n",
    "corr_metrics = data.corr()\n",
    "corr_metrics.style.background_gradient()"
   ]
  },
  {
   "cell_type": "markdown",
   "id": "b918bbc8",
   "metadata": {
    "papermill": {
     "duration": 0.023163,
     "end_time": "2021-10-18T08:49:29.514517",
     "exception": false,
     "start_time": "2021-10-18T08:49:29.491354",
     "status": "completed"
    },
    "tags": []
   },
   "source": [
    "Fractal dimension and texture present a low correlation with the remaining variables. Therefore we can eliminate them from our DB.\n",
    "Additional, because perimeter and area have a strong correlation, it will be elimintated to avoid redudancy."
   ]
  },
  {
   "cell_type": "code",
   "execution_count": 11,
   "id": "204d9bcd",
   "metadata": {
    "execution": {
     "iopub.execute_input": "2021-10-18T08:49:29.567803Z",
     "iopub.status.busy": "2021-10-18T08:49:29.566305Z",
     "iopub.status.idle": "2021-10-18T08:49:29.569982Z",
     "shell.execute_reply": "2021-10-18T08:49:29.570412Z",
     "shell.execute_reply.started": "2021-10-18T08:14:48.075417Z"
    },
    "papermill": {
     "duration": 0.032074,
     "end_time": "2021-10-18T08:49:29.570573",
     "exception": false,
     "start_time": "2021-10-18T08:49:29.538499",
     "status": "completed"
    },
    "tags": []
   },
   "outputs": [],
   "source": [
    "data = data.drop(['fractal_dimension', 'texture', 'perimeter'], axis=1)"
   ]
  },
  {
   "cell_type": "markdown",
   "id": "41930f46",
   "metadata": {
    "execution": {
     "iopub.execute_input": "2021-10-15T10:58:29.364288Z",
     "iopub.status.busy": "2021-10-15T10:58:29.364004Z",
     "iopub.status.idle": "2021-10-15T10:58:29.378562Z",
     "shell.execute_reply": "2021-10-15T10:58:29.376508Z",
     "shell.execute_reply.started": "2021-10-15T10:58:29.364257Z"
    },
    "papermill": {
     "duration": 0.023236,
     "end_time": "2021-10-18T08:49:29.617406",
     "exception": false,
     "start_time": "2021-10-18T08:49:29.594170",
     "status": "completed"
    },
    "tags": []
   },
   "source": [
    "### 2. Train & test sets"
   ]
  },
  {
   "cell_type": "code",
   "execution_count": 12,
   "id": "7305dfaf",
   "metadata": {
    "execution": {
     "iopub.execute_input": "2021-10-18T08:49:29.667253Z",
     "iopub.status.busy": "2021-10-18T08:49:29.666602Z",
     "iopub.status.idle": "2021-10-18T08:49:29.833399Z",
     "shell.execute_reply": "2021-10-18T08:49:29.832817Z",
     "shell.execute_reply.started": "2021-10-18T08:14:48.082828Z"
    },
    "papermill": {
     "duration": 0.192777,
     "end_time": "2021-10-18T08:49:29.833535",
     "exception": false,
     "start_time": "2021-10-18T08:49:29.640758",
     "status": "completed"
    },
    "tags": []
   },
   "outputs": [],
   "source": [
    "# split the data in train and test function\n",
    "\n",
    "from sklearn.model_selection import train_test_split\n",
    "\n",
    "X = data.drop(['diagnosis_result'], axis=1) # Features\n",
    "y = data['diagnosis_result'] # Labels\n",
    "\n",
    "X_train, X_test, y_train, y_test = train_test_split(X, y, test_size = 0.2, random_state=10)"
   ]
  },
  {
   "cell_type": "markdown",
   "id": "bb31b859",
   "metadata": {
    "execution": {
     "iopub.execute_input": "2021-10-15T11:04:02.39721Z",
     "iopub.status.busy": "2021-10-15T11:04:02.39694Z",
     "iopub.status.idle": "2021-10-15T11:04:02.403908Z",
     "shell.execute_reply": "2021-10-15T11:04:02.402867Z",
     "shell.execute_reply.started": "2021-10-15T11:04:02.397182Z"
    },
    "papermill": {
     "duration": 0.023411,
     "end_time": "2021-10-18T08:49:29.881345",
     "exception": false,
     "start_time": "2021-10-18T08:49:29.857934",
     "status": "completed"
    },
    "tags": []
   },
   "source": [
    "### 3. ML models"
   ]
  },
  {
   "cell_type": "code",
   "execution_count": 13,
   "id": "e22cdf82",
   "metadata": {
    "execution": {
     "iopub.execute_input": "2021-10-18T08:49:29.930895Z",
     "iopub.status.busy": "2021-10-18T08:49:29.930246Z",
     "iopub.status.idle": "2021-10-18T08:49:30.026341Z",
     "shell.execute_reply": "2021-10-18T08:49:30.027001Z",
     "shell.execute_reply.started": "2021-10-18T08:14:48.284008Z"
    },
    "papermill": {
     "duration": 0.122539,
     "end_time": "2021-10-18T08:49:30.027182",
     "exception": false,
     "start_time": "2021-10-18T08:49:29.904643",
     "status": "completed"
    },
    "tags": []
   },
   "outputs": [],
   "source": [
    "# Logistic Regression model\n",
    "\n",
    "from sklearn.linear_model import LogisticRegression\n",
    "\n",
    "logreg = LogisticRegression()\n",
    "logreg.fit(X_train,y_train)\n",
    "pred_log = logreg.predict(X_test)"
   ]
  },
  {
   "cell_type": "code",
   "execution_count": 14,
   "id": "ce1cc807",
   "metadata": {
    "execution": {
     "iopub.execute_input": "2021-10-18T08:49:30.084880Z",
     "iopub.status.busy": "2021-10-18T08:49:30.083825Z",
     "iopub.status.idle": "2021-10-18T08:49:30.292721Z",
     "shell.execute_reply": "2021-10-18T08:49:30.291531Z",
     "shell.execute_reply.started": "2021-10-18T08:14:48.386549Z"
    },
    "papermill": {
     "duration": 0.240664,
     "end_time": "2021-10-18T08:49:30.292899",
     "exception": false,
     "start_time": "2021-10-18T08:49:30.052235",
     "status": "completed"
    },
    "tags": []
   },
   "outputs": [],
   "source": [
    "# Random Forest Classifier\n",
    "\n",
    "from sklearn.ensemble import RandomForestClassifier\n",
    "\n",
    "forest = RandomForestClassifier(n_estimators = 50)\n",
    "forest.fit(X_train,y_train)\n",
    "pred_forest = forest.predict(X_test)"
   ]
  },
  {
   "cell_type": "code",
   "execution_count": 15,
   "id": "c014b22c",
   "metadata": {
    "execution": {
     "iopub.execute_input": "2021-10-18T08:49:30.350861Z",
     "iopub.status.busy": "2021-10-18T08:49:30.350128Z",
     "iopub.status.idle": "2021-10-18T08:49:30.353032Z",
     "shell.execute_reply": "2021-10-18T08:49:30.353515Z",
     "shell.execute_reply.started": "2021-10-18T08:14:48.578501Z"
    },
    "papermill": {
     "duration": 0.037522,
     "end_time": "2021-10-18T08:49:30.353704",
     "exception": false,
     "start_time": "2021-10-18T08:49:30.316182",
     "status": "completed"
    },
    "tags": []
   },
   "outputs": [],
   "source": [
    "# KNeighbors Classifier\n",
    "\n",
    "from sklearn.neighbors import KNeighborsClassifier\n",
    "\n",
    "kn = KNeighborsClassifier(n_neighbors=2)\n",
    "kn.fit(X_train,y_train)\n",
    "pred_kn = kn.predict(X_test)"
   ]
  },
  {
   "cell_type": "code",
   "execution_count": 16,
   "id": "d710927b",
   "metadata": {
    "execution": {
     "iopub.execute_input": "2021-10-18T08:49:30.404199Z",
     "iopub.status.busy": "2021-10-18T08:49:30.403513Z",
     "iopub.status.idle": "2021-10-18T08:49:30.411415Z",
     "shell.execute_reply": "2021-10-18T08:49:30.410843Z",
     "shell.execute_reply.started": "2021-10-18T08:14:48.593746Z"
    },
    "papermill": {
     "duration": 0.034097,
     "end_time": "2021-10-18T08:49:30.411548",
     "exception": false,
     "start_time": "2021-10-18T08:49:30.377451",
     "status": "completed"
    },
    "tags": []
   },
   "outputs": [],
   "source": [
    "# Decision Tree Classifier\n",
    "\n",
    "from sklearn.tree import DecisionTreeClassifier\n",
    "\n",
    "tree = DecisionTreeClassifier()\n",
    "tree.fit(X_train,y_train)\n",
    "pred_tree = tree.predict(X_test)"
   ]
  },
  {
   "cell_type": "code",
   "execution_count": 17,
   "id": "bb3df861",
   "metadata": {
    "execution": {
     "iopub.execute_input": "2021-10-18T08:49:30.467998Z",
     "iopub.status.busy": "2021-10-18T08:49:30.462079Z",
     "iopub.status.idle": "2021-10-18T08:49:30.493217Z",
     "shell.execute_reply": "2021-10-18T08:49:30.492323Z",
     "shell.execute_reply.started": "2021-10-18T08:14:48.605647Z"
    },
    "papermill": {
     "duration": 0.058234,
     "end_time": "2021-10-18T08:49:30.493430",
     "exception": false,
     "start_time": "2021-10-18T08:49:30.435196",
     "status": "completed"
    },
    "tags": []
   },
   "outputs": [
    {
     "name": "stdout",
     "output_type": "stream",
     "text": [
      "Logistic Regression: \n",
      "               precision    recall  f1-score   support\n",
      "\n",
      "           0       0.75      0.67      0.71         9\n",
      "           1       0.75      0.82      0.78        11\n",
      "\n",
      "    accuracy                           0.75        20\n",
      "   macro avg       0.75      0.74      0.74        20\n",
      "weighted avg       0.75      0.75      0.75        20\n",
      "\n",
      "Forest Classifier: \n",
      "               precision    recall  f1-score   support\n",
      "\n",
      "           0       0.89      0.89      0.89         9\n",
      "           1       0.91      0.91      0.91        11\n",
      "\n",
      "    accuracy                           0.90        20\n",
      "   macro avg       0.90      0.90      0.90        20\n",
      "weighted avg       0.90      0.90      0.90        20\n",
      "\n",
      "KNeighbors Classifier: \n",
      "               precision    recall  f1-score   support\n",
      "\n",
      "           0       0.54      0.78      0.64         9\n",
      "           1       0.71      0.45      0.56        11\n",
      "\n",
      "    accuracy                           0.60        20\n",
      "   macro avg       0.63      0.62      0.60        20\n",
      "weighted avg       0.64      0.60      0.59        20\n",
      "\n",
      "Decision Tree: \n",
      "               precision    recall  f1-score   support\n",
      "\n",
      "           0       0.80      0.89      0.84         9\n",
      "           1       0.90      0.82      0.86        11\n",
      "\n",
      "    accuracy                           0.85        20\n",
      "   macro avg       0.85      0.85      0.85        20\n",
      "weighted avg       0.86      0.85      0.85        20\n",
      "\n"
     ]
    }
   ],
   "source": [
    "from sklearn.metrics import classification_report\n",
    "\n",
    "class_rep_log = classification_report(y_test, pred_log)\n",
    "class_rep_forest = classification_report(y_test, pred_forest)\n",
    "class_rep_kn = classification_report(y_test, pred_kn)\n",
    "class_rep_tree = classification_report(y_test, pred_tree)\n",
    "\n",
    "print(\"Logistic Regression: \\n\", class_rep_log)\n",
    "print(\"Forest Classifier: \\n\", class_rep_forest)\n",
    "print(\"KNeighbors Classifier: \\n\", class_rep_kn)\n",
    "print(\"Decision Tree: \\n\", class_rep_tree)"
   ]
  },
  {
   "cell_type": "markdown",
   "id": "af0295d2",
   "metadata": {
    "papermill": {
     "duration": 0.026631,
     "end_time": "2021-10-18T08:49:30.555003",
     "exception": false,
     "start_time": "2021-10-18T08:49:30.528372",
     "status": "completed"
    },
    "tags": []
   },
   "source": [
    "The Forest Classificatio model has the highest average precision of 0.9, and both variables are well balanced (benigne: 1 and maligne: 0). \n",
    "\n",
    "The Decision Tree model has also a good average precision. However in this model the maligne results are better classified."
   ]
  },
  {
   "cell_type": "code",
   "execution_count": 18,
   "id": "f95028ec",
   "metadata": {
    "execution": {
     "iopub.execute_input": "2021-10-18T08:49:30.609956Z",
     "iopub.status.busy": "2021-10-18T08:49:30.609003Z",
     "iopub.status.idle": "2021-10-18T08:49:31.861391Z",
     "shell.execute_reply": "2021-10-18T08:49:31.860701Z",
     "shell.execute_reply.started": "2021-10-18T08:14:48.632691Z"
    },
    "papermill": {
     "duration": 1.279193,
     "end_time": "2021-10-18T08:49:31.861530",
     "exception": false,
     "start_time": "2021-10-18T08:49:30.582337",
     "status": "completed"
    },
    "tags": []
   },
   "outputs": [
    {
     "name": "stdout",
     "output_type": "stream",
     "text": [
      "Logistic Regression: 0.8 \n",
      "Forest Classification: 0.86 \n",
      "KNeighbors Classification: 0.7100000000000001 \n",
      "Decision Tree: 0.8699999999999999 \n",
      "\n"
     ]
    }
   ],
   "source": [
    "from sklearn.model_selection import KFold, cross_val_score\n",
    "\n",
    "kf = KFold(10)\n",
    "\n",
    "logit_score = cross_val_score(logreg, X, y, cv=kf)\n",
    "forest_score = cross_val_score(forest, X, y, cv=kf)\n",
    "KNeighbors_score = cross_val_score(kn, X, y, cv=kf)\n",
    "tree_score = cross_val_score(tree, X, y, cv=kf)\n",
    "\n",
    "\n",
    "# Print the mean of each array of scores\n",
    "print(\"Logistic Regression:\", np.mean(logit_score), '\\n'\n",
    "      \"Forest Classification:\", np.mean(forest_score), '\\n'\n",
    "      \"KNeighbors Classification:\", np.mean(KNeighbors_score), '\\n'\n",
    "      \"Decision Tree:\", np.mean(tree_score), '\\n'\n",
    "     )"
   ]
  },
  {
   "cell_type": "markdown",
   "id": "ff40c2bb",
   "metadata": {
    "papermill": {
     "duration": 0.023629,
     "end_time": "2021-10-18T08:49:31.909497",
     "exception": false,
     "start_time": "2021-10-18T08:49:31.885868",
     "status": "completed"
    },
    "tags": []
   },
   "source": [
    "The highest score is obtained with the Forest Classification, followed by the Decision tree."
   ]
  }
 ],
 "metadata": {
  "kernelspec": {
   "display_name": "Python 3",
   "language": "python",
   "name": "python3"
  },
  "language_info": {
   "codemirror_mode": {
    "name": "ipython",
    "version": 3
   },
   "file_extension": ".py",
   "mimetype": "text/x-python",
   "name": "python",
   "nbconvert_exporter": "python",
   "pygments_lexer": "ipython3",
   "version": "3.7.10"
  },
  "papermill": {
   "default_parameters": {},
   "duration": 13.695238,
   "end_time": "2021-10-18T08:49:33.484647",
   "environment_variables": {},
   "exception": null,
   "input_path": "__notebook__.ipynb",
   "output_path": "__notebook__.ipynb",
   "parameters": {},
   "start_time": "2021-10-18T08:49:19.789409",
   "version": "2.3.3"
  }
 },
 "nbformat": 4,
 "nbformat_minor": 5
}
